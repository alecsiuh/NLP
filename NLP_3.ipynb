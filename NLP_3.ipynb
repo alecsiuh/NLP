{
  "nbformat": 4,
  "nbformat_minor": 0,
  "metadata": {
    "colab": {
      "provenance": []
    },
    "kernelspec": {
      "name": "python3",
      "display_name": "Python 3"
    },
    "language_info": {
      "name": "python"
    }
  },
  "cells": [
    {
      "cell_type": "markdown",
      "source": [
        "# Option 2: Install spacy-llm module\n",
        "\n",
        "Use Spacy in conjunction with an LLM to build a summerizer."
      ],
      "metadata": {
        "id": "vUWjKzJ6Qcxt"
      }
    },
    {
      "cell_type": "markdown",
      "source": [
        "## Imports"
      ],
      "metadata": {
        "id": "MXURw0rXQh-X"
      }
    },
    {
      "cell_type": "code",
      "source": [
        "import spacy\n",
        "from spacy.lang.en.stop_words import STOP_WORDS\n",
        "from string import punctuation\n",
        "from heapq import nlargest"
      ],
      "metadata": {
        "id": "30l2M5-JQja_"
      },
      "execution_count": null,
      "outputs": []
    },
    {
      "cell_type": "markdown",
      "source": [
        "## Defining the textSummarizer function"
      ],
      "metadata": {
        "id": "hg7QSH7rAm5R"
      }
    },
    {
      "cell_type": "code",
      "source": [
        "def textSummarizer(text, percentage):\n",
        "    # load the model into spaCy\n",
        "    nlp = spacy.load('en_core_web_sm')\n",
        "\n",
        "    # pass the text into the nlp function\n",
        "    doc= nlp(text)\n",
        "\n",
        "    # The score of each word is kept in a frequency table\n",
        "    tokens=[token.text for token in doc]\n",
        "    freq_of_word=dict()\n",
        "\n",
        "    # The score of each word is kept in a frequency table\n",
        "    tokens=[token.text for token in doc]\n",
        "    freq_of_word=dict()\n",
        "\n",
        "    # Text cleaning and vectorization\n",
        "    for word in doc:\n",
        "        if word.text.lower() not in list(STOP_WORDS):\n",
        "            if word.text.lower() not in punctuation:\n",
        "                if word.text not in freq_of_word.keys():\n",
        "                    freq_of_word[word.text] = 1\n",
        "                else:\n",
        "                    freq_of_word[word.text] += 1\n",
        "    # Maximum frequency of word\n",
        "    max_freq=max(freq_of_word.values())\n",
        "\n",
        "    # Normalization of word frequency\n",
        "    for word in freq_of_word.keys():\n",
        "        freq_of_word[word]=freq_of_word[word]/max_freq\n",
        "\n",
        "    # In this part, each sentence is weighed based on how often it contains the token.\n",
        "    sent_tokens= [sent for sent in doc.sents]\n",
        "    sent_scores = dict()\n",
        "    for sent in sent_tokens:\n",
        "        for word in sent:\n",
        "            if word.text.lower() in freq_of_word.keys():\n",
        "                if sent not in sent_scores.keys():\n",
        "                    sent_scores[sent]=freq_of_word[word.text.lower()]\n",
        "                else:\n",
        "                    sent_scores[sent]+=freq_of_word[word.text.lower()]\n",
        "\n",
        "\n",
        "    len_tokens=int(len(sent_tokens)*percentage)\n",
        "\n",
        "    # Summary for the sentences with maximum score. Here, each sentence in the list is of spacy.span type\n",
        "    summary = nlargest(n = len_tokens, iterable = sent_scores,key=sent_scores.get)\n",
        "\n",
        "    # Prepare for final summary\n",
        "    final_summary=[word.text for word in summary]\n",
        "\n",
        "    # Convert to a string\n",
        "    summary=\" \".join(final_summary)\n",
        "\n",
        "    # Return final summary\n",
        "    return summary"
      ],
      "metadata": {
        "id": "O3_jC2a5Aonl"
      },
      "execution_count": null,
      "outputs": []
    },
    {
      "cell_type": "markdown",
      "source": [
        "## Input text"
      ],
      "metadata": {
        "id": "cFqgna5l_X1y"
      }
    },
    {
      "cell_type": "code",
      "source": [
        "text = \"\"\"I often dream about the Dolphin Hotel. In these dreams, I'm there, implicated in some kind of ongoing circumstance. All indications are that I belong to this dream continuity. The Dolphin Hotel is distorted, much too narrow. It seems more like a long, covered bridge. A bridge stretching endlessly through time. And there I am, in the middle of it. Someone else is there too, crying. The hotel envelops me. I can feel its pulse, its heat. In dreams, I am part of the hotel. I wake up, but where? I don't just think this, I actually voice the question to myself: «Where am I?» As if I didn't know: I'm here. In my life. A feature of the world that is my existence. Not that I particularly recall ever having approved these matters, this condition, this state of affairs in which I feature. There might be a woman sleeping next to me. More often, I'm alone. Just me and the expressway that runs right next to my apartment and, bedside, a glass (five millimeters of whiskey still in it) and the malicious — no, make that indifferent—dusty morning light. Sometimes it's raining. If it is, I'll just stay in bed. And if there's whiskey still left in the glass, I'll drink it. And I'll look at the raindrops dripping from the eaves, and I'll think about the Dolphin Hotel. Maybe I'll stretch, nice and slow. Enough for me to be sure I'm myself and not part of something else. Yet I'll remember the feel of the dream. So much that I swear I can reach out and touch it, and the whole of that something that includes me will move. If I strain my ears, I can hear the slow, cautious sequence of play take place, like droplets in an intricate water puzzle falling, step upon step, one after the other. I listen carefully. That's when I hear someone softly, almost imperceptibly, weeping. A sobbing from somewhere in the darkness. Someone is crying for me. The Dolphin Hotel is a real hotel. It actually exists in a so-so section of Sapporo. Once, a few years back, I spent a week there. No, let me get that straight. How many years ago was it? Four. Or more precisely, four and a half. I was still in my twenties. I checked into the Dolphin Hotel with a woman I was living with. She'd chosen the place. This is where we're staying, was what she said. If it hadn't been for her, I doubt I'd ever have set foot in the place. It was a tiny dump of a hotel. In the whole time we were there, I don't know if we saw another paying customer. There were a couple of characters milling around the lobby, but who knows if they were staying there? A few keys were always missing from the board behind the front desk, so I guess there were other hotel guests. Though not too many. I mean, really, you hang out a hotel sign somewhere in a major city, put a phone number in the business listings, it stands to reason you're not going to go entirely without cus-tomers. But granting there were other customers besides our-selves, they were awfully quiet. We never heard a sound from them, hardly saw a sign of their presence—with the exception of the arrangement of the keys on the board that changed slightly each day. Were they like shadows creeping along the walls of the corridors, holding their breath? Occasionally we'd hear the dull rattling of the elevator, but when it stopped the oppressive silence bore down once more. A mysterious hotel. What it reminded me of was a biological dead end. A ge-netic retrogression. A freak accident of nature that stranded some organism up the wrong path without a way back. Evo-lutionary vector eliminated, orphaned life-form left cowering behind the curtain of history, in The Land That Time Forgot. And through no fault of anyone. No one to blame, no one to save it. The hotel should never have been built where it was. That was the first mistake, and everything got worse from there. Like a button on a shirt buttoned wrong, every attempt to correct things led to yet another fine—not to say elegant— mess. No detail seemed right. Look at anything in the place and you'd find yourself tilting your head a few degrees. Not enough to cause you any real harm, nor enough to seem par-ticularly odd. Who knows? You might get used to this slant on things (but if you did, you'd never be able to view the world again without holding your head out of true).\"\"\""
      ],
      "metadata": {
        "id": "TWvDlUAE_3WZ"
      },
      "execution_count": null,
      "outputs": []
    },
    {
      "cell_type": "markdown",
      "source": [
        "## Select 20% sentences with maximum score as a final summary"
      ],
      "metadata": {
        "id": "WFr50vaaAaVK"
      }
    },
    {
      "cell_type": "code",
      "source": [
        "final_summary = textSummarizer(text, 0.2)"
      ],
      "metadata": {
        "id": "rP4bP1kmAbPh"
      },
      "execution_count": null,
      "outputs": []
    },
    {
      "cell_type": "markdown",
      "source": [
        "## Summary of the text"
      ],
      "metadata": {
        "id": "dUSrmKQTBJY7"
      }
    },
    {
      "cell_type": "code",
      "source": [
        "print(\"#\"*50)\n",
        "print(\"Lenght of the initial text:\", len(text))\n",
        "print(\"Length of summarized text:\",len(final_summary))\n",
        "print(\"#\"*50)\n",
        "print()\n",
        "print(final_summary)"
      ],
      "metadata": {
        "colab": {
          "base_uri": "https://localhost:8080/"
        },
        "id": "JqiULt3uBI_0",
        "outputId": "1e7ea28d-3438-4650-d16f-5ae99b8fcea1"
      },
      "execution_count": null,
      "outputs": [
        {
          "output_type": "stream",
          "name": "stdout",
          "text": [
            "##################################################\n",
            "Summary of the text\n",
            "Length of summarized text: 1538\n",
            "Lenght of the initial text: 4271\n",
            "##################################################\n",
            "\n",
            "Just me and the expressway that runs right next to my apartment and, bedside, a glass (five millimeters of whiskey still in it) and the malicious — no, make that indifferent—dusty morning light. If I strain my ears, I can hear the slow, cautious sequence of play take place, like droplets in an intricate water puzzle falling, step upon step, one after the other. Like a button on a shirt buttoned wrong, every attempt to correct things led to yet another fine—not to say elegant— mess. I mean, really, you hang out a hotel sign somewhere in a major city, put a phone number in the business listings, it stands to reason you're not going to go entirely without cus-tomers. We never heard a sound from them, hardly saw a sign of their presence—with the exception of the arrangement of the keys on the board that changed slightly each day. The Dolphin Hotel is a real hotel. A few keys were always missing from the board behind the front desk, so I guess there were other hotel guests. And I'll look at the raindrops dripping from the eaves, and I'll think about the Dolphin Hotel. Evo-lutionary vector eliminated, orphaned life-form left cowering behind the curtain of history, in The Land That Time Forgot. I checked into the Dolphin Hotel with a woman I was living with. You might get used to this slant on things (but if you did, you'd never be able to view the world again without holding your head out of true). I often dream about the Dolphin Hotel. The Dolphin Hotel is distorted, much too narrow. In dreams, I am part of the hotel.\n"
          ]
        }
      ]
    }
  ]
}